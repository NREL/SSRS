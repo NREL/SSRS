{
 "cells": [
  {
   "cell_type": "code",
   "execution_count": 1,
   "id": "410ef070-0fbc-4d31-af74-ffa3b5b9fcbf",
   "metadata": {},
   "outputs": [],
   "source": [
    "import pandas as pd"
   ]
  },
  {
   "cell_type": "markdown",
   "id": "d9ca2290-2f68-445d-8817-e5b5c80253da",
   "metadata": {},
   "source": [
    "## Specify the input file with timestamps"
   ]
  },
  {
   "cell_type": "code",
   "execution_count": 2,
   "id": "d2803723-1872-46e3-9c8e-8dffe1dfe1e9",
   "metadata": {},
   "outputs": [],
   "source": [
    "input_timestamps = '/Users/akey/OneDrive - NREL/Eagles/app_telemetry_data.csv'"
   ]
  },
  {
   "cell_type": "markdown",
   "id": "9c31892c-d9ae-45e0-8e22-6a86b5d6296c",
   "metadata": {},
   "source": [
    "## Extract, convert timestamps to UTC, and find unique values\n",
    "\n",
    "Skip timestamps that parse to not a time (NaT). But counts the NaTs."
   ]
  },
  {
   "cell_type": "code",
   "execution_count": 5,
   "id": "6603cc96-0063-4bc0-b7bc-9095defe0ed8",
   "metadata": {},
   "outputs": [
    {
     "data": {
      "text/html": [
       "<div>\n",
       "<style scoped>\n",
       "    .dataframe tbody tr th:only-of-type {\n",
       "        vertical-align: middle;\n",
       "    }\n",
       "\n",
       "    .dataframe tbody tr th {\n",
       "        vertical-align: top;\n",
       "    }\n",
       "\n",
       "    .dataframe thead th {\n",
       "        text-align: right;\n",
       "    }\n",
       "</style>\n",
       "<table border=\"1\" class=\"dataframe\">\n",
       "  <thead>\n",
       "    <tr style=\"text-align: right;\">\n",
       "      <th></th>\n",
       "      <th>timestamp_utc</th>\n",
       "    </tr>\n",
       "  </thead>\n",
       "  <tbody>\n",
       "    <tr>\n",
       "      <th>0</th>\n",
       "      <td>2015-1-9 13:00</td>\n",
       "    </tr>\n",
       "    <tr>\n",
       "      <th>1</th>\n",
       "      <td>2015-1-9 12:00</td>\n",
       "    </tr>\n",
       "    <tr>\n",
       "      <th>2</th>\n",
       "      <td>2015-1-2 14:00</td>\n",
       "    </tr>\n",
       "    <tr>\n",
       "      <th>3</th>\n",
       "      <td>2015-1-2 13:00</td>\n",
       "    </tr>\n",
       "    <tr>\n",
       "      <th>4</th>\n",
       "      <td>2015-1-2 12:00</td>\n",
       "    </tr>\n",
       "  </tbody>\n",
       "</table>\n",
       "</div>"
      ],
      "text/plain": [
       "    timestamp_utc\n",
       "0  2015-1-9 13:00\n",
       "1  2015-1-9 12:00\n",
       "2  2015-1-2 14:00\n",
       "3  2015-1-2 13:00\n",
       "4  2015-1-2 12:00"
      ]
     },
     "execution_count": 5,
     "metadata": {},
     "output_type": "execute_result"
    }
   ],
   "source": [
    "df = pd.read_csv(input_timestamps)\n",
    "ymdhs = []\n",
    "nat_count = 0\n",
    "\n",
    "timestamp_utc = pd.to_datetime(df['Time']).dt.tz_localize('US/Eastern', ambiguous='NaT', nonexistent='shift_forward')\n",
    "\n",
    "for i, timestamp in enumerate(timestamp_utc):\n",
    "    ymdh = f'{timestamp.year}-{timestamp.month}-{timestamp.day} {timestamp.hour}:00'\n",
    "    if 'nan' not in ymdh:\n",
    "        ymdhs.append(ymdh)\n",
    "    else:\n",
    "        nat_count += 1\n",
    "    \n",
    "ymdh_df = pd.DataFrame({'timestamp_utc': pd.Series(ymdhs).unique()})\n",
    "\n",
    "ymdh_df.head()"
   ]
  },
  {
   "cell_type": "markdown",
   "id": "51beb821-ddc3-4206-a6ab-3b4c8e3d8e7b",
   "metadata": {},
   "source": [
    "How many NaTs were found?"
   ]
  },
  {
   "cell_type": "code",
   "execution_count": 6,
   "id": "cb3cca10-6474-4073-ad96-af85186a80cb",
   "metadata": {},
   "outputs": [
    {
     "data": {
      "text/plain": [
       "7"
      ]
     },
     "execution_count": 6,
     "metadata": {},
     "output_type": "execute_result"
    }
   ],
   "source": [
    "nat_count"
   ]
  },
  {
   "cell_type": "markdown",
   "id": "538f1f45-2bd3-428b-ba45-3d6a3ffb016a",
   "metadata": {},
   "source": [
    "## Specify the output file for timestamps"
   ]
  },
  {
   "cell_type": "code",
   "execution_count": 7,
   "id": "f7be6f28-5cc5-4221-9044-a2cab0c0020a",
   "metadata": {},
   "outputs": [],
   "source": [
    "output_timestamps = '/Users/akey/OneDrive - NREL/Eagles/app_telemetry_data_unique_timestamps.csv'"
   ]
  },
  {
   "cell_type": "markdown",
   "id": "470df2ab-f868-47d4-a941-593fbbf8235a",
   "metadata": {},
   "source": [
    "## Create the output file"
   ]
  },
  {
   "cell_type": "code",
   "execution_count": 8,
   "id": "7cc32f96-4849-46f2-9b92-45406495cbfa",
   "metadata": {},
   "outputs": [],
   "source": [
    "ymdh_df.to_csv(output_timestamps, index=False)"
   ]
  },
  {
   "cell_type": "code",
   "execution_count": null,
   "id": "ad938d4a-5804-4a05-9134-498534f98fed",
   "metadata": {},
   "outputs": [],
   "source": []
  }
 ],
 "metadata": {
  "kernelspec": {
   "display_name": "Python 3 (ipykernel)",
   "language": "python",
   "name": "python3"
  },
  "language_info": {
   "codemirror_mode": {
    "name": "ipython",
    "version": 3
   },
   "file_extension": ".py",
   "mimetype": "text/x-python",
   "name": "python",
   "nbconvert_exporter": "python",
   "pygments_lexer": "ipython3",
   "version": "3.10.2"
  }
 },
 "nbformat": 4,
 "nbformat_minor": 5
}
