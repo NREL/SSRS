{
 "cells": [
  {
   "cell_type": "code",
   "execution_count": 1,
   "id": "b720bffd-263b-433c-8fdf-84b38fb9a156",
   "metadata": {},
   "outputs": [
    {
     "name": "stderr",
     "output_type": "stream",
     "text": [
      "/Users/akey/anaconda3/envs/ssrs_env/lib/python3.10/site-packages/herbie/archive.py:71: UserWarning: herbie xarray accessors could not be imported.You are probably missing the Carpenter_Workshop.If you want to use these functions, try`pip install git+https://github.com/blaylockbk/Carpenter_Workshop.git`\n",
      "  warnings.warn(\n"
     ]
    }
   ],
   "source": [
    "from ssrs import HRRR"
   ]
  },
  {
   "cell_type": "code",
   "execution_count": 2,
   "id": "f99278d3-4b91-425b-b6f5-b6749162f4d4",
   "metadata": {},
   "outputs": [
    {
     "name": "stdout",
     "output_type": "stream",
     "text": [
      "🏋🏻‍♂️ Found \u001b[32m2021-Feb-17 12:00 UTC F00\u001b[m [HRRR] [product=sfc] GRIB2 file from \u001b[31maws\u001b[m and index file from \u001b[31maws\u001b[m.                                                                                                                                                       \n"
     ]
    }
   ],
   "source": [
    "nav = HRRR('2021-02-17 12:00')"
   ]
  },
  {
   "cell_type": "code",
   "execution_count": 3,
   "id": "f3421146-2e65-4a21-8c0f-8c78c31b5954",
   "metadata": {},
   "outputs": [
    {
     "name": "stdout",
     "output_type": "stream",
     "text": [
      "Note: Returning a list of [4] xarray.Datasets because of multiple hypercubes.\n"
     ]
    },
    {
     "data": {
      "text/plain": [
       "{'wstar_gflux_masked': <xarray.DataArray 'gflux' (y: 32, x: 35)>\n",
       " array([[nan, nan, nan, ..., nan, nan, nan],\n",
       "        [nan, nan, nan, ..., nan, nan, nan],\n",
       "        [nan, nan, nan, ..., nan, nan, nan],\n",
       "        ...,\n",
       "        [nan, nan, nan, ..., nan, nan, nan],\n",
       "        [nan, nan, nan, ..., nan, nan, nan],\n",
       "        [nan, nan, nan, ..., nan, nan, nan]], dtype=float32)\n",
       " Coordinates:\n",
       "     time               datetime64[ns] 2021-02-17T12:00:00\n",
       "     step               timedelta64[ns] 00:00:00\n",
       "     surface            float64 0.0\n",
       "     latitude           (y, x) float64 42.69 42.68 42.67 ... 43.28 43.27 43.26\n",
       "     longitude          (y, x) float64 285.1 285.2 285.2 ... 286.5 286.6 286.6\n",
       "     valid_time         datetime64[ns] 2021-02-17T12:00:00\n",
       "     heightAboveGround  float64 2.0\n",
       " Dimensions without coordinates: y, x\n",
       " Attributes:\n",
       "     GRIB_paramId:                             260186\n",
       "     GRIB_dataType:                            fc\n",
       "     GRIB_numberOfPoints:                      1905141\n",
       "     GRIB_typeOfLevel:                         surface\n",
       "     GRIB_stepUnits:                           1\n",
       "     GRIB_stepType:                            instant\n",
       "     GRIB_gridType:                            lambert\n",
       "     GRIB_DxInMetres:                          3000.0\n",
       "     GRIB_DyInMetres:                          3000.0\n",
       "     GRIB_LaDInDegrees:                        38.5\n",
       "     GRIB_Latin1InDegrees:                     38.5\n",
       "     GRIB_Latin2InDegrees:                     38.5\n",
       "     GRIB_LoVInDegrees:                        262.5\n",
       "     GRIB_NV:                                  0\n",
       "     GRIB_Nx:                                  1799\n",
       "     GRIB_Ny:                                  1059\n",
       "     GRIB_cfName:                              unknown\n",
       "     GRIB_cfVarName:                           gflux\n",
       "     GRIB_gridDefinitionDescription:           Lambert Conformal can be secant...\n",
       "     GRIB_iScansNegatively:                    0\n",
       "     GRIB_jPointsAreConsecutive:               0\n",
       "     GRIB_jScansPositively:                    1\n",
       "     GRIB_latitudeOfFirstGridPointInDegrees:   21.138123\n",
       "     GRIB_latitudeOfSouthernPoleInDegrees:     0.0\n",
       "     GRIB_longitudeOfFirstGridPointInDegrees:  237.280472\n",
       "     GRIB_longitudeOfSouthernPoleInDegrees:    0.0\n",
       "     GRIB_missingValue:                        9999\n",
       "     GRIB_name:                                Ground heat flux\n",
       "     GRIB_parameterName:                       Ground heat flux\n",
       "     GRIB_parameterUnits:                      W m-2\n",
       "     GRIB_shortName:                           gflux\n",
       "     GRIB_stepRange:                           0\n",
       "     GRIB_units:                               W m**-2\n",
       "     long_name:                                Ground heat flux\n",
       "     units:                                    W m**-2\n",
       "     standard_name:                            unknown\n",
       "     grid_mapping:                             gribfile_projection,\n",
       " 'wstar_shtfl_masked': <xarray.DataArray 'shtfl' (y: 32, x: 35)>\n",
       " array([[nan, nan, nan, ..., nan, nan, nan],\n",
       "        [nan, nan, nan, ..., nan, nan, nan],\n",
       "        [nan, nan, nan, ..., nan, nan, nan],\n",
       "        ...,\n",
       "        [nan, nan, nan, ..., nan, nan, nan],\n",
       "        [nan, nan, nan, ..., nan, nan, nan],\n",
       "        [nan, nan, nan, ..., nan, nan, nan]], dtype=float32)\n",
       " Coordinates:\n",
       "     time               datetime64[ns] 2021-02-17T12:00:00\n",
       "     step               timedelta64[ns] 00:00:00\n",
       "     surface            float64 0.0\n",
       "     latitude           (y, x) float64 42.69 42.68 42.67 ... 43.28 43.27 43.26\n",
       "     longitude          (y, x) float64 285.1 285.2 285.2 ... 286.5 286.6 286.6\n",
       "     valid_time         datetime64[ns] 2021-02-17T12:00:00\n",
       "     heightAboveGround  float64 2.0\n",
       " Dimensions without coordinates: y, x\n",
       " Attributes:\n",
       "     GRIB_paramId:                             260003\n",
       "     GRIB_dataType:                            fc\n",
       "     GRIB_numberOfPoints:                      1905141\n",
       "     GRIB_typeOfLevel:                         surface\n",
       "     GRIB_stepUnits:                           1\n",
       "     GRIB_stepType:                            instant\n",
       "     GRIB_gridType:                            lambert\n",
       "     GRIB_DxInMetres:                          3000.0\n",
       "     GRIB_DyInMetres:                          3000.0\n",
       "     GRIB_LaDInDegrees:                        38.5\n",
       "     GRIB_Latin1InDegrees:                     38.5\n",
       "     GRIB_Latin2InDegrees:                     38.5\n",
       "     GRIB_LoVInDegrees:                        262.5\n",
       "     GRIB_NV:                                  0\n",
       "     GRIB_Nx:                                  1799\n",
       "     GRIB_Ny:                                  1059\n",
       "     GRIB_cfName:                              unknown\n",
       "     GRIB_cfVarName:                           shtfl\n",
       "     GRIB_gridDefinitionDescription:           Lambert Conformal can be secant...\n",
       "     GRIB_iScansNegatively:                    0\n",
       "     GRIB_jPointsAreConsecutive:               0\n",
       "     GRIB_jScansPositively:                    1\n",
       "     GRIB_latitudeOfFirstGridPointInDegrees:   21.138123\n",
       "     GRIB_latitudeOfSouthernPoleInDegrees:     0.0\n",
       "     GRIB_longitudeOfFirstGridPointInDegrees:  237.280472\n",
       "     GRIB_longitudeOfSouthernPoleInDegrees:    0.0\n",
       "     GRIB_missingValue:                        9999\n",
       "     GRIB_name:                                Sensible heat net flux\n",
       "     GRIB_parameterName:                       Sensible heat net flux\n",
       "     GRIB_parameterUnits:                      W m-2\n",
       "     GRIB_shortName:                           shtfl\n",
       "     GRIB_stepRange:                           0\n",
       "     GRIB_units:                               W m**-2\n",
       "     long_name:                                Sensible heat net flux\n",
       "     units:                                    W m**-2\n",
       "     standard_name:                            unknown\n",
       "     grid_mapping:                             gribfile_projection}"
      ]
     },
     "execution_count": 3,
     "metadata": {},
     "output_type": "execute_result"
    }
   ],
   "source": [
    "nav.convective_velocity_variables()"
   ]
  },
  {
   "cell_type": "code",
   "execution_count": null,
   "id": "6d30d5f4-d070-4b21-8c8f-be72bc299487",
   "metadata": {},
   "outputs": [],
   "source": []
  }
 ],
 "metadata": {
  "kernelspec": {
   "display_name": "Python 3 (ipykernel)",
   "language": "python",
   "name": "python3"
  },
  "language_info": {
   "codemirror_mode": {
    "name": "ipython",
    "version": 3
   },
   "file_extension": ".py",
   "mimetype": "text/x-python",
   "name": "python",
   "nbconvert_exporter": "python",
   "pygments_lexer": "ipython3",
   "version": "3.10.2"
  }
 },
 "nbformat": 4,
 "nbformat_minor": 5
}
