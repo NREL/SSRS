{
 "cells": [
  {
   "cell_type": "markdown",
   "id": "70c6f209",
   "metadata": {},
   "source": [
    "# Eagle Behavior and Risk Modeling for Wind Energy workshop \n",
    "## Stochastic Soaring Raptor Simulator (SSRS)\n",
    "### Instructions for running the demo.ipynb jupyter notebook provided in the workshop folder"
   ]
  },
  {
   "cell_type": "markdown",
   "id": "c60df74f",
   "metadata": {},
   "source": [
    "This document provides instructions on installing SSRS on your local machine and running the ssrs_demo notebook provided in this workshop folder of the Github repository. These instructions have been tested for Unix OS (Linux/MacOS) and may require slight modification for Windows OS. \n",
    "\n",
    "Github repository: https://github.com/NREL/SSRS \n",
    "\n",
    "Journal publication: Stochastic agent-based model for predicting turbine-scale raptor movements during updraft-subsidized directional flights. Ecological Modelling, April 2022. [link](https://www.sciencedirect.com/science/article/pii/S0304380022000047)"
   ]
  },
  {
   "cell_type": "markdown",
   "id": "7ddcc1a1",
   "metadata": {},
   "source": [
    "#### Installing SSRS"
   ]
  },
  {
   "cell_type": "markdown",
   "id": "e141d90c",
   "metadata": {},
   "source": [
    "1) Make sure following are installed on your local machine before the workshop demos start:\n",
    " - Terminal ([Instructions for Windows](https://docs.microsoft.com/en-us/windows/terminal/))\n",
    " - Git ([install instructions](https://git-scm.com/book/en/v2/Getting-Started-Installing-Git))\n",
    " - Miniconda ([install instructions](https://docs.conda.io/en/latest/miniconda.html#latest-miniconda-installer-links))"
   ]
  },
  {
   "cell_type": "markdown",
   "id": "79479d6d",
   "metadata": {},
   "source": [
    "2) Open the terminal and go to the directory where you want to clone/install SSRS\n",
    "```console\n",
    "rsandhu@mac$ pwd\n",
    "/Users/rsandhu/workshop\n",
    "```"
   ]
  },
  {
   "cell_type": "markdown",
   "id": "2a6259b7",
   "metadata": {},
   "source": [
    "3) Clone SSRS using the following command, which will create a folder named 'SSRS'\n",
    "```console\n",
    "rsandhu@mac$ git clone https://github.com/NREL/SSRS.git\n",
    "```"
   ]
  },
  {
   "cell_type": "markdown",
   "id": "60ee2332",
   "metadata": {},
   "source": [
    "4) Go to SSRS directory\n",
    "```console\n",
    "rsandhu@mac$ cd SSRS/\n",
    "```"
   ]
  },
  {
   "cell_type": "markdown",
   "id": "2f6a9010",
   "metadata": {},
   "source": [
    "5) Create the conda environment with name 'myenv' using the .yml file in the SSRS directory\n",
    "```console\n",
    "rsandhu@mac$ conda env create -f environment.yml -n myenv\n",
    "```"
   ]
  },
  {
   "cell_type": "markdown",
   "id": "0834c033",
   "metadata": {},
   "source": [
    "6) Check if conda environment was created successfully, this command should list myenv as one of the conda environments\n",
    "```console\n",
    "rsandhu@mac$ conda env list\n",
    "```"
   ]
  },
  {
   "cell_type": "markdown",
   "id": "317db445",
   "metadata": {},
   "source": [
    "7) Activate the installed conda environment named myenv\n",
    "```console\n",
    "rsandhu@mac$ conda activate myenv\n",
    "```"
   ]
  },
  {
   "cell_type": "markdown",
   "id": "b1e317ac",
   "metadata": {},
   "source": [
    "8) Install SSRS\n",
    "```console\n",
    "rsandhu@mac$ pip install .\n",
    "```"
   ]
  },
  {
   "cell_type": "markdown",
   "id": "954ad61f",
   "metadata": {},
   "source": [
    "9) Check if SSRS is installed by running this command, and checking for ssrs in the list\n",
    "```console\n",
    "rsandhu@mac$ conda list\n",
    "```"
   ]
  },
  {
   "cell_type": "markdown",
   "id": "3f2d5382",
   "metadata": {},
   "source": [
    "#### Running Jupyter notebook"
   ]
  },
  {
   "cell_type": "markdown",
   "id": "14f51df9",
   "metadata": {},
   "source": [
    "1) From the installed conda environment, install pykernel \n",
    "```console\n",
    "rsandhu@mac$ conda install ipykernel\n",
    "```"
   ]
  },
  {
   "cell_type": "markdown",
   "id": "7c483915",
   "metadata": {},
   "source": [
    "2) Add the ipykernel kernel for the myenv environement\n",
    "```console\n",
    "rsandhu@mac$ ipython kernel install --user --name=myenv\n",
    "```"
   ]
  },
  {
   "cell_type": "markdown",
   "id": "4bdfbf6c",
   "metadata": {},
   "source": [
    "2) Add the ipykernel kernel for the myenv environement\n",
    "```console\n",
    "rsandhu@mac$ conda install jupyter\n",
    "```"
   ]
  },
  {
   "cell_type": "markdown",
   "id": "d1ea37d1",
   "metadata": {},
   "source": [
    "3) Launch Jupyter notebook from the terminal\n",
    "```console\n",
    "rsandhu@mac$ jupyter notebook\n",
    "```"
   ]
  },
  {
   "cell_type": "markdown",
   "id": "c0464c5a",
   "metadata": {},
   "source": [
    "4) The jupyter notebook will open to the SSRS directory. Go to the workshop or the notebooks folder and then open any notebook (.ipynb files), and make sure the kernel is selected to be myenv (Kernel -> Change kernel -> myenv)."
   ]
  },
  {
   "cell_type": "markdown",
   "id": "84038ae5",
   "metadata": {},
   "source": [
    "#### Getting API key for using NREL's WTK dataset in SSRS\n",
    "You wil need to get an API key to use NREL's WTK data set, which is required in the snapshot and seasonal mode of SSRS. Follow these steps to get access to WTK:"
   ]
  },
  {
   "cell_type": "markdown",
   "id": "9709f549",
   "metadata": {},
   "source": [
    "1) Open this [link](https://developer.nrel.gov/signup/), enter your name and email, and click signup. You will get an API key. Copy the API key"
   ]
  },
  {
   "cell_type": "markdown",
   "id": "a9cbf116",
   "metadata": {},
   "source": [
    "2) Open the .hscfg_need_api_key file that comes shipped in SSRS/notebooks, SSRS/workshop and SSRS/examples, and  put the API key in that file and then rename it as .hscfg. Only do it for the directory where you are running the code."
   ]
  }
 ],
 "metadata": {
  "kernelspec": {
   "display_name": "ssrs_env",
   "language": "python",
   "name": "ssrs_env"
  },
  "language_info": {
   "codemirror_mode": {
    "name": "ipython",
    "version": 3
   },
   "file_extension": ".py",
   "mimetype": "text/x-python",
   "name": "python",
   "nbconvert_exporter": "python",
   "pygments_lexer": "ipython3",
   "version": "3.9.9"
  }
 },
 "nbformat": 4,
 "nbformat_minor": 5
}
